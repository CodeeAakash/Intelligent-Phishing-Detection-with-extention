{
 "cells": [
  {
   "cell_type": "code",
   "execution_count": 1,
   "id": "5ac16351",
   "metadata": {},
   "outputs": [
    {
     "name": "stdout",
     "output_type": "stream",
     "text": [
      "Requirement already satisfied: xgboost in d:\\software\\anaconda\\lib\\site-packages (1.7.1)\n",
      "Requirement already satisfied: scipy in d:\\software\\anaconda\\lib\\site-packages (from xgboost) (1.7.1)\n",
      "Requirement already satisfied: numpy in d:\\software\\anaconda\\lib\\site-packages (from xgboost) (1.20.3)\n"
     ]
    }
   ],
   "source": [
    "!pip install xgboost"
   ]
  },
  {
   "cell_type": "code",
   "execution_count": 2,
   "id": "53f4164d",
   "metadata": {},
   "outputs": [],
   "source": [
    "import numpy as np\n",
    "import pandas as pd\n",
    "import seaborn as sns\n",
    "import matplotlib.pyplot as plt\n",
    "\n",
    "from sklearn.model_selection import train_test_split\n",
    "from sklearn import metrics\n",
    "from sklearn.metrics import confusion_matrix\n",
    "from sklearn.tree import export_graphviz\n",
    "from sklearn.preprocessing import StandardScaler, OneHotEncoder\n",
    "from sklearn.impute import SimpleImputer\n",
    "from sklearn.model_selection import cross_val_score\n",
    "\n",
    "from sklearn.svm import SVC\n",
    "from sklearn.linear_model import LogisticRegression\n",
    "from sklearn.ensemble import RandomForestClassifier\n",
    "from xgboost import XGBClassifier\n",
    "from sklearn.model_selection import cross_val_score\n",
    "from sklearn.tree import DecisionTreeClassifier\n",
    "\n",
    "from urllib.parse import urlparse,urlencode\n",
    "import ipaddress\n",
    "import re"
   ]
  },
  {
   "cell_type": "markdown",
   "id": "40031f7d",
   "metadata": {},
   "source": [
    "# Phishing URL's"
   ]
  },
  {
   "cell_type": "code",
   "execution_count": 3,
   "id": "e6bf5405",
   "metadata": {},
   "outputs": [],
   "source": [
    "df = pd.read_csv('D:\\\\Software\\\\Anaconda\\\\ANA_Codes\\\\Project\\\\Data\\\\Main_Data_GS\\\\verified_online.csv')"
   ]
  },
  {
   "cell_type": "code",
   "execution_count": 4,
   "id": "67b887f3",
   "metadata": {},
   "outputs": [
    {
     "data": {
      "text/html": [
       "<div>\n",
       "<style scoped>\n",
       "    .dataframe tbody tr th:only-of-type {\n",
       "        vertical-align: middle;\n",
       "    }\n",
       "\n",
       "    .dataframe tbody tr th {\n",
       "        vertical-align: top;\n",
       "    }\n",
       "\n",
       "    .dataframe thead th {\n",
       "        text-align: right;\n",
       "    }\n",
       "</style>\n",
       "<table border=\"1\" class=\"dataframe\">\n",
       "  <thead>\n",
       "    <tr style=\"text-align: right;\">\n",
       "      <th></th>\n",
       "      <th>phish_id</th>\n",
       "      <th>url</th>\n",
       "      <th>phish_detail_url</th>\n",
       "      <th>submission_time</th>\n",
       "      <th>verified</th>\n",
       "      <th>verification_time</th>\n",
       "      <th>online</th>\n",
       "      <th>target</th>\n",
       "    </tr>\n",
       "  </thead>\n",
       "  <tbody>\n",
       "    <tr>\n",
       "      <th>0</th>\n",
       "      <td>7949592</td>\n",
       "      <td>https://angelicaig.cyou</td>\n",
       "      <td>http://www.phishtank.com/phish_detail.php?phis...</td>\n",
       "      <td>2022-11-18T09:52:34+00:00</td>\n",
       "      <td>yes</td>\n",
       "      <td>2022-11-18T10:03:36+00:00</td>\n",
       "      <td>yes</td>\n",
       "      <td>Other</td>\n",
       "    </tr>\n",
       "    <tr>\n",
       "      <th>1</th>\n",
       "      <td>7949586</td>\n",
       "      <td>https://attiva-bpercard.com/</td>\n",
       "      <td>http://www.phishtank.com/phish_detail.php?phis...</td>\n",
       "      <td>2022-11-18T09:19:44+00:00</td>\n",
       "      <td>yes</td>\n",
       "      <td>2022-11-18T09:33:21+00:00</td>\n",
       "      <td>yes</td>\n",
       "      <td>Other</td>\n",
       "    </tr>\n",
       "    <tr>\n",
       "      <th>2</th>\n",
       "      <td>7949581</td>\n",
       "      <td>https://screenpaste.cc/</td>\n",
       "      <td>http://www.phishtank.com/phish_detail.php?phis...</td>\n",
       "      <td>2022-11-18T09:14:00+00:00</td>\n",
       "      <td>yes</td>\n",
       "      <td>2022-11-18T09:33:21+00:00</td>\n",
       "      <td>yes</td>\n",
       "      <td>Other</td>\n",
       "    </tr>\n",
       "    <tr>\n",
       "      <th>3</th>\n",
       "      <td>7949577</td>\n",
       "      <td>http://sushiswapv3.com</td>\n",
       "      <td>http://www.phishtank.com/phish_detail.php?phis...</td>\n",
       "      <td>2022-11-18T09:08:50+00:00</td>\n",
       "      <td>yes</td>\n",
       "      <td>2022-11-18T09:13:17+00:00</td>\n",
       "      <td>yes</td>\n",
       "      <td>Other</td>\n",
       "    </tr>\n",
       "    <tr>\n",
       "      <th>4</th>\n",
       "      <td>7949578</td>\n",
       "      <td>https://sushiswapv3.com/</td>\n",
       "      <td>http://www.phishtank.com/phish_detail.php?phis...</td>\n",
       "      <td>2022-11-18T09:08:50+00:00</td>\n",
       "      <td>yes</td>\n",
       "      <td>2022-11-18T09:13:17+00:00</td>\n",
       "      <td>yes</td>\n",
       "      <td>Other</td>\n",
       "    </tr>\n",
       "  </tbody>\n",
       "</table>\n",
       "</div>"
      ],
      "text/plain": [
       "   phish_id                           url  \\\n",
       "0   7949592       https://angelicaig.cyou   \n",
       "1   7949586  https://attiva-bpercard.com/   \n",
       "2   7949581       https://screenpaste.cc/   \n",
       "3   7949577        http://sushiswapv3.com   \n",
       "4   7949578      https://sushiswapv3.com/   \n",
       "\n",
       "                                    phish_detail_url  \\\n",
       "0  http://www.phishtank.com/phish_detail.php?phis...   \n",
       "1  http://www.phishtank.com/phish_detail.php?phis...   \n",
       "2  http://www.phishtank.com/phish_detail.php?phis...   \n",
       "3  http://www.phishtank.com/phish_detail.php?phis...   \n",
       "4  http://www.phishtank.com/phish_detail.php?phis...   \n",
       "\n",
       "             submission_time verified          verification_time online target  \n",
       "0  2022-11-18T09:52:34+00:00      yes  2022-11-18T10:03:36+00:00    yes  Other  \n",
       "1  2022-11-18T09:19:44+00:00      yes  2022-11-18T09:33:21+00:00    yes  Other  \n",
       "2  2022-11-18T09:14:00+00:00      yes  2022-11-18T09:33:21+00:00    yes  Other  \n",
       "3  2022-11-18T09:08:50+00:00      yes  2022-11-18T09:13:17+00:00    yes  Other  \n",
       "4  2022-11-18T09:08:50+00:00      yes  2022-11-18T09:13:17+00:00    yes  Other  "
      ]
     },
     "execution_count": 4,
     "metadata": {},
     "output_type": "execute_result"
    }
   ],
   "source": [
    "df.head()"
   ]
  },
  {
   "cell_type": "code",
   "execution_count": 5,
   "id": "b09088f8",
   "metadata": {},
   "outputs": [
    {
     "data": {
      "text/plain": [
       "(91569, 8)"
      ]
     },
     "execution_count": 5,
     "metadata": {},
     "output_type": "execute_result"
    }
   ],
   "source": [
    "df.shape"
   ]
  },
  {
   "cell_type": "code",
   "execution_count": 6,
   "id": "1e1d0d13",
   "metadata": {},
   "outputs": [
    {
     "data": {
      "text/html": [
       "<div>\n",
       "<style scoped>\n",
       "    .dataframe tbody tr th:only-of-type {\n",
       "        vertical-align: middle;\n",
       "    }\n",
       "\n",
       "    .dataframe tbody tr th {\n",
       "        vertical-align: top;\n",
       "    }\n",
       "\n",
       "    .dataframe thead th {\n",
       "        text-align: right;\n",
       "    }\n",
       "</style>\n",
       "<table border=\"1\" class=\"dataframe\">\n",
       "  <thead>\n",
       "    <tr style=\"text-align: right;\">\n",
       "      <th></th>\n",
       "      <th>phish_id</th>\n",
       "      <th>url</th>\n",
       "      <th>phish_detail_url</th>\n",
       "      <th>submission_time</th>\n",
       "      <th>verified</th>\n",
       "      <th>verification_time</th>\n",
       "      <th>online</th>\n",
       "      <th>target</th>\n",
       "    </tr>\n",
       "  </thead>\n",
       "  <tbody>\n",
       "    <tr>\n",
       "      <th>64254</th>\n",
       "      <td>7852269</td>\n",
       "      <td>http://www.mascorerd.yvey51.icu/page1.php</td>\n",
       "      <td>http://www.phishtank.com/phish_detail.php?phis...</td>\n",
       "      <td>2022-10-18T03:15:10+00:00</td>\n",
       "      <td>yes</td>\n",
       "      <td>2022-10-24T15:05:21+00:00</td>\n",
       "      <td>yes</td>\n",
       "      <td>NICOS</td>\n",
       "    </tr>\n",
       "    <tr>\n",
       "      <th>80057</th>\n",
       "      <td>7790262</td>\n",
       "      <td>http://itaupysecurei.byethost4.com/</td>\n",
       "      <td>http://www.phishtank.com/phish_detail.php?phis...</td>\n",
       "      <td>2022-09-26T15:03:56+00:00</td>\n",
       "      <td>yes</td>\n",
       "      <td>2022-09-26T15:23:51+00:00</td>\n",
       "      <td>yes</td>\n",
       "      <td>Other</td>\n",
       "    </tr>\n",
       "    <tr>\n",
       "      <th>58784</th>\n",
       "      <td>7858971</td>\n",
       "      <td>http://www.macesaeerd.tepyl0.icu/page1.php</td>\n",
       "      <td>http://www.phishtank.com/phish_detail.php?phis...</td>\n",
       "      <td>2022-10-18T12:25:15+00:00</td>\n",
       "      <td>yes</td>\n",
       "      <td>2022-10-24T08:13:21+00:00</td>\n",
       "      <td>yes</td>\n",
       "      <td>NICOS</td>\n",
       "    </tr>\n",
       "    <tr>\n",
       "      <th>44542</th>\n",
       "      <td>7883852</td>\n",
       "      <td>http://www.au-payacoy.accaomaoy.hfmu.top/AU/pa...</td>\n",
       "      <td>http://www.phishtank.com/phish_detail.php?phis...</td>\n",
       "      <td>2022-10-23T16:21:55+00:00</td>\n",
       "      <td>yes</td>\n",
       "      <td>2022-10-23T16:24:33+00:00</td>\n",
       "      <td>yes</td>\n",
       "      <td>KDDI</td>\n",
       "    </tr>\n",
       "    <tr>\n",
       "      <th>40209</th>\n",
       "      <td>7889854</td>\n",
       "      <td>http://www.eki-net.con-aesccoseeaas.gbaiwf.top...</td>\n",
       "      <td>http://www.phishtank.com/phish_detail.php?phis...</td>\n",
       "      <td>2022-10-25T06:07:25+00:00</td>\n",
       "      <td>yes</td>\n",
       "      <td>2022-10-25T06:10:04+00:00</td>\n",
       "      <td>yes</td>\n",
       "      <td>East Japan Railway Company</td>\n",
       "    </tr>\n",
       "  </tbody>\n",
       "</table>\n",
       "</div>"
      ],
      "text/plain": [
       "       phish_id                                                url  \\\n",
       "64254   7852269          http://www.mascorerd.yvey51.icu/page1.php   \n",
       "80057   7790262                http://itaupysecurei.byethost4.com/   \n",
       "58784   7858971         http://www.macesaeerd.tepyl0.icu/page1.php   \n",
       "44542   7883852  http://www.au-payacoy.accaomaoy.hfmu.top/AU/pa...   \n",
       "40209   7889854  http://www.eki-net.con-aesccoseeaas.gbaiwf.top...   \n",
       "\n",
       "                                        phish_detail_url  \\\n",
       "64254  http://www.phishtank.com/phish_detail.php?phis...   \n",
       "80057  http://www.phishtank.com/phish_detail.php?phis...   \n",
       "58784  http://www.phishtank.com/phish_detail.php?phis...   \n",
       "44542  http://www.phishtank.com/phish_detail.php?phis...   \n",
       "40209  http://www.phishtank.com/phish_detail.php?phis...   \n",
       "\n",
       "                 submission_time verified          verification_time online  \\\n",
       "64254  2022-10-18T03:15:10+00:00      yes  2022-10-24T15:05:21+00:00    yes   \n",
       "80057  2022-09-26T15:03:56+00:00      yes  2022-09-26T15:23:51+00:00    yes   \n",
       "58784  2022-10-18T12:25:15+00:00      yes  2022-10-24T08:13:21+00:00    yes   \n",
       "44542  2022-10-23T16:21:55+00:00      yes  2022-10-23T16:24:33+00:00    yes   \n",
       "40209  2022-10-25T06:07:25+00:00      yes  2022-10-25T06:10:04+00:00    yes   \n",
       "\n",
       "                           target  \n",
       "64254                       NICOS  \n",
       "80057                       Other  \n",
       "58784                       NICOS  \n",
       "44542                        KDDI  \n",
       "40209  East Japan Railway Company  "
      ]
     },
     "execution_count": 6,
     "metadata": {},
     "output_type": "execute_result"
    }
   ],
   "source": [
    "# Taking 5000 url's randomly\n",
    "\n",
    "df_phishrandom = df.sample(n=5000, random_state = 20).copy()\n",
    "df_phishrandom.head()"
   ]
  },
  {
   "cell_type": "code",
   "execution_count": 7,
   "id": "f3b770a5",
   "metadata": {},
   "outputs": [
    {
     "data": {
      "text/plain": [
       "(5000, 8)"
      ]
     },
     "execution_count": 7,
     "metadata": {},
     "output_type": "execute_result"
    }
   ],
   "source": [
    "df_phishrandom.shape"
   ]
  },
  {
   "cell_type": "code",
   "execution_count": 8,
   "id": "b4577a81",
   "metadata": {},
   "outputs": [
    {
     "data": {
      "text/plain": [
       "phish_id             0\n",
       "url                  0\n",
       "phish_detail_url     0\n",
       "submission_time      0\n",
       "verified             0\n",
       "verification_time    0\n",
       "online               0\n",
       "target               0\n",
       "dtype: int64"
      ]
     },
     "execution_count": 8,
     "metadata": {},
     "output_type": "execute_result"
    }
   ],
   "source": [
    "df_phishrandom.isna().sum()"
   ]
  },
  {
   "cell_type": "markdown",
   "id": "a72bf0d2",
   "metadata": {},
   "source": [
    "# Legitamate URL's"
   ]
  },
  {
   "cell_type": "code",
   "execution_count": 9,
   "id": "af41ce7b",
   "metadata": {},
   "outputs": [],
   "source": [
    "df1 = pd.read_csv('Data\\\\Main_Data_GS\\\\legi.csv')"
   ]
  },
  {
   "cell_type": "code",
   "execution_count": 10,
   "id": "94d2c559",
   "metadata": {},
   "outputs": [
    {
     "data": {
      "text/html": [
       "<div>\n",
       "<style scoped>\n",
       "    .dataframe tbody tr th:only-of-type {\n",
       "        vertical-align: middle;\n",
       "    }\n",
       "\n",
       "    .dataframe tbody tr th {\n",
       "        vertical-align: top;\n",
       "    }\n",
       "\n",
       "    .dataframe thead th {\n",
       "        text-align: right;\n",
       "    }\n",
       "</style>\n",
       "<table border=\"1\" class=\"dataframe\">\n",
       "  <thead>\n",
       "    <tr style=\"text-align: right;\">\n",
       "      <th></th>\n",
       "      <th>URL</th>\n",
       "    </tr>\n",
       "  </thead>\n",
       "  <tbody>\n",
       "    <tr>\n",
       "      <th>35372</th>\n",
       "      <td>https://lastpass.com/signup2.php?ac=1&amp;from_uri...</td>\n",
       "    </tr>\n",
       "    <tr>\n",
       "      <th>35373</th>\n",
       "      <td>https://lastpass.com/signup2.php?ac=1&amp;from_uri...</td>\n",
       "    </tr>\n",
       "    <tr>\n",
       "      <th>35374</th>\n",
       "      <td>https://lastpass.com/signup2.php?ac=1&amp;from_uri...</td>\n",
       "    </tr>\n",
       "    <tr>\n",
       "      <th>35375</th>\n",
       "      <td>https://lastpass.com/signup2.php?ac=1&amp;from_uri...</td>\n",
       "    </tr>\n",
       "    <tr>\n",
       "      <th>35376</th>\n",
       "      <td>https://asana.com/guide/videos/%22//fast.wisti...</td>\n",
       "    </tr>\n",
       "  </tbody>\n",
       "</table>\n",
       "</div>"
      ],
      "text/plain": [
       "                                                     URL\n",
       "35372  https://lastpass.com/signup2.php?ac=1&from_uri...\n",
       "35373  https://lastpass.com/signup2.php?ac=1&from_uri...\n",
       "35374  https://lastpass.com/signup2.php?ac=1&from_uri...\n",
       "35375  https://lastpass.com/signup2.php?ac=1&from_uri...\n",
       "35376  https://asana.com/guide/videos/%22//fast.wisti..."
      ]
     },
     "execution_count": 10,
     "metadata": {},
     "output_type": "execute_result"
    }
   ],
   "source": [
    "df1.columns = ['URL']\n",
    "df1.tail()"
   ]
  },
  {
   "cell_type": "code",
   "execution_count": 11,
   "id": "e5f2e288",
   "metadata": {},
   "outputs": [
    {
     "data": {
      "text/plain": [
       "(35377, 1)"
      ]
     },
     "execution_count": 11,
     "metadata": {},
     "output_type": "execute_result"
    }
   ],
   "source": [
    "df1.shape"
   ]
  },
  {
   "cell_type": "code",
   "execution_count": 12,
   "id": "a6d98672",
   "metadata": {},
   "outputs": [
    {
     "data": {
      "text/html": [
       "<div>\n",
       "<style scoped>\n",
       "    .dataframe tbody tr th:only-of-type {\n",
       "        vertical-align: middle;\n",
       "    }\n",
       "\n",
       "    .dataframe tbody tr th {\n",
       "        vertical-align: top;\n",
       "    }\n",
       "\n",
       "    .dataframe thead th {\n",
       "        text-align: right;\n",
       "    }\n",
       "</style>\n",
       "<table border=\"1\" class=\"dataframe\">\n",
       "  <thead>\n",
       "    <tr style=\"text-align: right;\">\n",
       "      <th></th>\n",
       "      <th>URL</th>\n",
       "    </tr>\n",
       "  </thead>\n",
       "  <tbody>\n",
       "    <tr>\n",
       "      <th>13679</th>\n",
       "      <td>http://lifehacker.com/5900260/how-can-stop-wor...</td>\n",
       "    </tr>\n",
       "    <tr>\n",
       "      <th>6207</th>\n",
       "      <td>http://cookpad.com/recipe/list/212659?utf8=%E2...</td>\n",
       "    </tr>\n",
       "    <tr>\n",
       "      <th>1121</th>\n",
       "      <td>http://conservativetribune.com/civil-rights-le...</td>\n",
       "    </tr>\n",
       "    <tr>\n",
       "      <th>21020</th>\n",
       "      <td>http://distractify.com/igor-feng/28-photos-tha...</td>\n",
       "    </tr>\n",
       "    <tr>\n",
       "      <th>27573</th>\n",
       "      <td>http://motthegioi.vn/mao-trach-dong-qua-sach-b...</td>\n",
       "    </tr>\n",
       "  </tbody>\n",
       "</table>\n",
       "</div>"
      ],
      "text/plain": [
       "                                                     URL\n",
       "13679  http://lifehacker.com/5900260/how-can-stop-wor...\n",
       "6207   http://cookpad.com/recipe/list/212659?utf8=%E2...\n",
       "1121   http://conservativetribune.com/civil-rights-le...\n",
       "21020  http://distractify.com/igor-feng/28-photos-tha...\n",
       "27573  http://motthegioi.vn/mao-trach-dong-qua-sach-b..."
      ]
     },
     "execution_count": 12,
     "metadata": {},
     "output_type": "execute_result"
    }
   ],
   "source": [
    "# again taking 5000 website randomly\n",
    "\n",
    "df_legirandom = df1.sample(n=5000, random_state = 10).copy()\n",
    "df_legirandom.head()"
   ]
  },
  {
   "cell_type": "code",
   "execution_count": 13,
   "id": "f890e850",
   "metadata": {},
   "outputs": [
    {
     "data": {
      "text/plain": [
       "(5000, 1)"
      ]
     },
     "execution_count": 13,
     "metadata": {},
     "output_type": "execute_result"
    }
   ],
   "source": [
    "df_legirandom.shape"
   ]
  },
  {
   "cell_type": "code",
   "execution_count": 14,
   "id": "94cad67c",
   "metadata": {},
   "outputs": [],
   "source": [
    "def getDomain(url):  \n",
    "  domain = urlparse(url).netloc\n",
    "  if re.match(r\"^www.\",domain):\n",
    "\t       domain = domain.replace(\"www.\",\"\")\n",
    "  return domain\n",
    "\n",
    "def havingIP(url):\n",
    "  try:\n",
    "    ipaddress.ip_address(url)\n",
    "    ip = 1\n",
    "  except:\n",
    "    ip = 0\n",
    "  return ip\n",
    "def httpDomain(url):\n",
    "  domain = urlparse(url).netloc\n",
    "  if 'https' in domain:\n",
    "    return 1\n",
    "  else:\n",
    "    return 0"
   ]
  },
  {
   "cell_type": "code",
   "execution_count": 15,
   "id": "87c93eb7",
   "metadata": {},
   "outputs": [],
   "source": [
    "def haveAtSign(url):\n",
    "  if \"@\" in url:\n",
    "    at = 1    \n",
    "  else:\n",
    "    at = 0    \n",
    "  return at\n",
    "\n",
    "def getLength(url):\n",
    "  if len(url) < 54:\n",
    "    length = 0            \n",
    "  else:\n",
    "    length = 1            \n",
    "  return length\n",
    "def prefixSuffix(url):\n",
    "    if '-' in urlparse(url).netloc:\n",
    "        return 1            \n",
    "    else:\n",
    "        return 0            "
   ]
  },
  {
   "cell_type": "code",
   "execution_count": 16,
   "id": "80bfc28d",
   "metadata": {},
   "outputs": [],
   "source": [
    "def getDepth(url):\n",
    "  s = urlparse(url).path.split('/')\n",
    "  depth = 0\n",
    "  for j in range(len(s)):\n",
    "    if len(s[j]) != 0:\n",
    "      depth = depth+1\n",
    "  return depth\n",
    "def redirection(url):\n",
    "  pos = url.rfind('//')\n",
    "  if pos > 6:\n",
    "    if pos > 7:\n",
    "      return 1\n",
    "    else:\n",
    "      return 0\n",
    "  else:\n",
    "    return 0\n",
    "def rightClick(response):\n",
    "  if response == \"\":\n",
    "    return 1\n",
    "  else:\n",
    "    if re.findall(r\"event.button ?== ?2\", response.text):\n",
    "      return 0\n",
    "    else:\n",
    "      return 1"
   ]
  },
  {
   "cell_type": "code",
   "execution_count": 17,
   "id": "9b97112d",
   "metadata": {},
   "outputs": [],
   "source": [
    "df_whole = pd.concat([df_legirandom, df_phishrandom]).reset_index(drop=True)"
   ]
  },
  {
   "cell_type": "code",
   "execution_count": 18,
   "id": "fe6e8fc4",
   "metadata": {},
   "outputs": [],
   "source": [
    "df_whole.to_csv('df_whole.csv', index=False)"
   ]
  },
  {
   "cell_type": "code",
   "execution_count": null,
   "id": "d7d3c691",
   "metadata": {},
   "outputs": [],
   "source": []
  }
 ],
 "metadata": {
  "kernelspec": {
   "display_name": "Python 3 (ipykernel)",
   "language": "python",
   "name": "python3"
  },
  "language_info": {
   "codemirror_mode": {
    "name": "ipython",
    "version": 3
   },
   "file_extension": ".py",
   "mimetype": "text/x-python",
   "name": "python",
   "nbconvert_exporter": "python",
   "pygments_lexer": "ipython3",
   "version": "3.9.7"
  }
 },
 "nbformat": 4,
 "nbformat_minor": 5
}
